{
 "cells": [
  {
   "cell_type": "markdown",
   "metadata": {},
   "source": [
    "# The review.csv dataset can be found at https://drive.google.com/file/d/1nq1fqLHYc3UX9YM2OeZys9lbiwAlK8TY/view?usp=sharing"
   ]
  },
  {
   "cell_type": "markdown",
   "metadata": {},
   "source": [
    "# Preprocessor - Creating Dataset"
   ]
  },
  {
   "cell_type": "code",
   "execution_count": 1,
   "metadata": {},
   "outputs": [
    {
     "name": "stderr",
     "output_type": "stream",
     "text": [
      "C:\\Users\\Kevin\\Anaconda3\\lib\\site-packages\\nltk\\twitter\\__init__.py:20: UserWarning: The twython library has not been installed. Some functionality from the twitter package will not be available.\n",
      "  warnings.warn(\"The twython library has not been installed. \"\n"
     ]
    }
   ],
   "source": [
    "# -*- coding: utf-8 -*-\n",
    "import csv\n",
    "import nltk\n",
    "import numpy as np\n",
    "from math import sqrt\n",
    "from nltk.corpus import stopwords\n",
    "from nltk.tokenize import word_tokenize\n",
    "from nltk.stem.wordnet import WordNetLemmatizer\n",
    "from nltk.tokenize import WhitespaceTokenizer\n",
    "from nltk.sentiment.util import mark_negation\n",
    "from collections import Counter\n",
    "from sklearn.feature_extraction.text import TfidfVectorizer\n",
    "from sklearn.feature_extraction.text import CountVectorizer\n",
    "from sklearn.model_selection import train_test_split, KFold\n",
    "from sklearn.naive_bayes import MultinomialNB\n",
    "from sklearn.svm import LinearSVC\n",
    "from sklearn import metrics\n",
    "from sklearn.pipeline import Pipeline\n",
    "from sklearn.linear_model import LinearRegression\n",
    "import pandas\n",
    "\n",
    "stop_words = set(stopwords.words('english'))\n",
    "\n",
    "f = open('review.csv', \"r\", encoding = \"utf-8\")\n",
    "read = csv.reader(f)\n",
    "counter = 0\n",
    "text_reviews = []\n",
    "stars = []\n",
    "for row in read:\n",
    "    counter += 1\n",
    "    if(counter < 200000): \n",
    "        if row[5] != '3':\n",
    "            stars.append(row[5])\n",
    "            text_reviews.append(row[6])\n",
    "    else:\n",
    "        f.close()\n",
    "        text_reviews = text_reviews[1:]\n",
    "        stars = stars[1:]\n",
    "        break"
   ]
  },
  {
   "cell_type": "markdown",
   "metadata": {},
   "source": [
    "# Preprocessor - Creating \"Balanced Subset\""
   ]
  },
  {
   "cell_type": "code",
   "execution_count": 2,
   "metadata": {
    "collapsed": true
   },
   "outputs": [],
   "source": [
    "n = Counter(stars)\n",
    "max_ = n.most_common()[-1][1]\n",
    "n_added = {class_: 0 for class_ in n.keys()}\n",
    "new_ys = []\n",
    "new_xs = []\n",
    "for i, y in enumerate(stars):\n",
    "    if n_added[y] < max_:\n",
    "        new_ys.append(y)\n",
    "        new_xs.append(text_reviews[i])\n",
    "        n_added[y] += 1\n",
    "        \n",
    "stars = new_ys\n",
    "text_reviews = new_xs"
   ]
  },
  {
   "cell_type": "markdown",
   "metadata": {},
   "source": [
    "# Preprocessor - Lemmatizer"
   ]
  },
  {
   "cell_type": "code",
   "execution_count": 3,
   "metadata": {
    "collapsed": true
   },
   "outputs": [],
   "source": [
    "xs_dupe = []\n",
    "l = WordNetLemmatizer()\n",
    "for x in text_reviews:\n",
    "    review = str()\n",
    "    for w in word_tokenize(x):\n",
    "        current = str(l.lemmatize(w, pos = 'n'))\n",
    "        for t in [l.lemmatize(w, pos = 'v'), l.lemmatize(w, pos = 'a'), l.lemmatize(w, pos = 'r')]:\n",
    "            if len(t) < len(current):\n",
    "                current = t\n",
    "        if '\\'' in current or '!' in current or '.' in current or ',' in current:\n",
    "            review = review + current\n",
    "        else:\n",
    "            review = review + ' ' + current\n",
    "    xs_dupe.append(review)\n",
    "text_reviews = xs_dupe"
   ]
  },
  {
   "cell_type": "markdown",
   "metadata": {},
   "source": [
    "# Vectorizer - n-grams, removing stopwords, negation detection"
   ]
  },
  {
   "cell_type": "code",
   "execution_count": 4,
   "metadata": {
    "collapsed": true
   },
   "outputs": [],
   "source": [
    "vectorizer = CountVectorizer(ngram_range=(1,3), stop_words = 'english', tokenizer=lambda text: mark_negation(word_tokenize(text)))\n",
    "vectors = vectorizer.fit_transform(text_reviews)\n",
    "stars = np.array(stars)"
   ]
  },
  {
   "cell_type": "markdown",
   "metadata": {},
   "source": [
    "# 5-Fold cross validation, training classifier, evaluating accuracy"
   ]
  },
  {
   "cell_type": "code",
   "execution_count": 5,
   "metadata": {},
   "outputs": [
    {
     "name": "stdout",
     "output_type": "stream",
     "text": [
      "4-class classification =  0.5085760622222785\n",
      "binary =  0.7931842526646934\n"
     ]
    }
   ],
   "source": [
    "kf = KFold(n_splits = 5)\n",
    "kf.get_n_splits(vectors)\n",
    "binary_accuracy_list = list()\n",
    "classifier_accuracy_list = list()\n",
    "for x,y in kf.split(vectors):\n",
    "    x = list(x)\n",
    "    y = list(y)\n",
    "    X_train, X_test = vectors[x], vectors[y]\n",
    "    y_train, y_test = stars[x], stars[y]\n",
    "    nb = MultinomialNB()\n",
    "    nb.fit(X_train, y_train)\n",
    "    y_pred = nb.predict(X_test)\n",
    "    correct = 0\n",
    "    for i, x in enumerate(y_test):\n",
    "        if x == \"1\":\n",
    "            if y_pred[i] == \"1\":\n",
    "                correct += 1\n",
    "            elif y_pred[i] == \"2\":\n",
    "                correct += 1\n",
    "        elif x == \"2\":\n",
    "            if y_pred[i] == \"1\":\n",
    "                correct += 1\n",
    "            elif y_pred[i] == \"2\":\n",
    "                correct += 1\n",
    "        if x == \"4\":\n",
    "            if y_pred[i] == \"4\":\n",
    "                correct += 1\n",
    "            elif y_pred[i] == \"5\":\n",
    "                correct += 1\n",
    "        if x == \"5\":\n",
    "            if y_pred[i] == \"4\":\n",
    "                correct += 1\n",
    "            elif y_pred[i] == \"5\":\n",
    "                correct += 1\n",
    "    binary_accuracy_list.append(correct/len(y_test))\n",
    "    classifier_accuracy_list.append(metrics.accuracy_score(y_test, y_pred))\n",
    "classifier_accuracy_list = np.array(classifier_accuracy_list)\n",
    "binary_accuracy_list = np.array(binary_accuracy_list)\n",
    "print(\"4-class classification = \", classifier_accuracy_list.mean())\n",
    "print(\"binary = \", binary_accuracy_list.mean())"
   ]
  },
  {
   "cell_type": "markdown",
   "metadata": {},
   "source": [
    "# Optimal Linear Support Vector Machine"
   ]
  },
  {
   "cell_type": "code",
   "execution_count": 2,
   "metadata": {},
   "outputs": [
    {
     "name": "stdout",
     "output_type": "stream",
     "text": [
      "4-class classification =  0.755445209344\n",
      "binary =  0.961488545310913\n"
     ]
    }
   ],
   "source": [
    "# -*- coding: utf-8 -*-\n",
    "import csv\n",
    "import nltk\n",
    "import numpy as np\n",
    "from math import sqrt\n",
    "from nltk.corpus import stopwords\n",
    "from nltk.tokenize import word_tokenize\n",
    "from nltk.stem.wordnet import WordNetLemmatizer\n",
    "from nltk.tokenize import WhitespaceTokenizer\n",
    "from nltk.sentiment.util import mark_negation\n",
    "from collections import Counter\n",
    "from sklearn.feature_extraction.text import TfidfVectorizer\n",
    "from sklearn.feature_extraction.text import CountVectorizer\n",
    "from sklearn.model_selection import train_test_split, KFold\n",
    "from sklearn.naive_bayes import MultinomialNB\n",
    "from sklearn.svm import LinearSVC\n",
    "from sklearn import metrics\n",
    "from sklearn.pipeline import Pipeline\n",
    "from sklearn.linear_model import LinearRegression\n",
    "import pandas\n",
    "\n",
    "stop_words = set(stopwords.words('english'))\n",
    "\n",
    "f = open('review.csv', \"r\", encoding = \"utf-8\")\n",
    "read = csv.reader(f)\n",
    "counter = 0\n",
    "text_reviews = []\n",
    "stars = []\n",
    "for row in read:\n",
    "    counter += 1\n",
    "    if(counter < 200000): \n",
    "        if row[5] != '3':\n",
    "            stars.append(row[5])\n",
    "            text_reviews.append(row[6])\n",
    "    else:\n",
    "        f.close()\n",
    "        text_reviews = text_reviews[1:]\n",
    "        stars = stars[1:]\n",
    "        break\n",
    "vectorizer = TfidfVectorizer(ngram_range=(1,3), tokenizer=lambda text: mark_negation(word_tokenize(text)))\n",
    "vectors = vectorizer.fit_transform(text_reviews)\n",
    "stars = np.array(stars)\n",
    "X_train, X_test, y_train, y_test = train_test_split(vectors, stars, test_size=0.2, random_state=24)\n",
    "svm = LinearSVC()\n",
    "svm.fit(X_train, y_train)\n",
    "y_pred = svm.predict(X_test)\n",
    "correct = 0\n",
    "for i, x in enumerate(y_test):\n",
    "    if x == \"1\":\n",
    "        if y_pred[i] == \"1\":\n",
    "            correct += 1\n",
    "        elif y_pred[i] == \"2\":\n",
    "            correct += 1\n",
    "    elif x == \"2\":\n",
    "        if y_pred[i] == \"1\":\n",
    "            correct += 1\n",
    "        elif y_pred[i] == \"2\":\n",
    "            correct += 1\n",
    "    if x == \"4\":\n",
    "        if y_pred[i] == \"4\":\n",
    "            correct += 1\n",
    "        elif y_pred[i] == \"5\":\n",
    "            correct += 1\n",
    "    if x == \"5\":\n",
    "        if y_pred[i] == \"4\":\n",
    "            correct += 1\n",
    "        elif y_pred[i] == \"5\":\n",
    "            correct += 1\n",
    "            \n",
    "print(\"4-class classification = \", metrics.accuracy_score(y_test, y_pred))\n",
    "print(\"binary = \", correct/len(y_test))       "
   ]
  },
  {
   "cell_type": "markdown",
   "metadata": {},
   "source": [
    "# Optimal Multinomial Naive Bayes"
   ]
  },
  {
   "cell_type": "code",
   "execution_count": 7,
   "metadata": {},
   "outputs": [
    {
     "name": "stdout",
     "output_type": "stream",
     "text": [
      "4-class classification =  0.6935317458003933\n",
      "binary =  0.9030465234710583\n"
     ]
    }
   ],
   "source": [
    "# -*- coding: utf-8 -*-\n",
    "import csv\n",
    "import nltk\n",
    "import numpy as np\n",
    "from math import sqrt\n",
    "from nltk.corpus import stopwords\n",
    "from nltk.tokenize import word_tokenize\n",
    "from nltk.stem.wordnet import WordNetLemmatizer\n",
    "from nltk.tokenize import WhitespaceTokenizer\n",
    "from nltk.sentiment.util import mark_negation\n",
    "from collections import Counter\n",
    "from sklearn.feature_extraction.text import TfidfVectorizer\n",
    "from sklearn.feature_extraction.text import CountVectorizer\n",
    "from sklearn.model_selection import train_test_split, KFold\n",
    "from sklearn.naive_bayes import MultinomialNB\n",
    "from sklearn.svm import LinearSVC\n",
    "from sklearn import metrics\n",
    "from sklearn.pipeline import Pipeline\n",
    "from sklearn.linear_model import LinearRegression\n",
    "import pandas\n",
    "\n",
    "stop_words = set(stopwords.words('english'))\n",
    "\n",
    "f = open('review.csv', \"r\", encoding = \"utf-8\")\n",
    "read = csv.reader(f)\n",
    "counter = 0\n",
    "text_reviews = []\n",
    "stars = []\n",
    "for row in read:\n",
    "    counter += 1\n",
    "    if(counter < 200000): \n",
    "        if row[5] != '3':\n",
    "            stars.append(row[5])\n",
    "            text_reviews.append(row[6])\n",
    "    else:\n",
    "        f.close()\n",
    "        text_reviews = text_reviews[1:]\n",
    "        stars = stars[1:]\n",
    "        break\n",
    "\n",
    "vectorizer = CountVectorizer(ngram_range=(1,4), tokenizer=lambda text: mark_negation(word_tokenize(text)))\n",
    "vectors = vectorizer.fit_transform(text_reviews)\n",
    "stars = np.array(stars)\n",
    "kf = KFold(n_splits = 5)\n",
    "kf.get_n_splits(vectors)\n",
    "binary_accuracy_list = list()\n",
    "classifier_accuracy_list = list()\n",
    "for x,y in kf.split(vectors):\n",
    "    x = list(x)\n",
    "    y = list(y)\n",
    "    X_train, X_test = vectors[x], vectors[y]\n",
    "    y_train, y_test = stars[x], stars[y]\n",
    "    nb = MultinomialNB()\n",
    "    nb.fit(X_train, y_train)\n",
    "    y_pred = nb.predict(X_test)\n",
    "    correct = 0\n",
    "    for i, x in enumerate(y_test):\n",
    "        if x == \"1\":\n",
    "            if y_pred[i] == \"1\":\n",
    "                correct += 1\n",
    "            elif y_pred[i] == \"2\":\n",
    "                correct += 1\n",
    "        elif x == \"2\":\n",
    "            if y_pred[i] == \"1\":\n",
    "                correct += 1\n",
    "            elif y_pred[i] == \"2\":\n",
    "                correct += 1\n",
    "        if x == \"4\":\n",
    "            if y_pred[i] == \"4\":\n",
    "                correct += 1\n",
    "            elif y_pred[i] == \"5\":\n",
    "                correct += 1\n",
    "        if x == \"5\":\n",
    "            if y_pred[i] == \"4\":\n",
    "                correct += 1\n",
    "            elif y_pred[i] == \"5\":\n",
    "                correct += 1\n",
    "    binary_accuracy_list.append(correct/len(y_test))\n",
    "    classifier_accuracy_list.append(metrics.accuracy_score(y_test, y_pred))\n",
    "classifier_accuracy_list = np.array(classifier_accuracy_list)\n",
    "binary_accuracy_list = np.array(binary_accuracy_list)\n",
    "print(\"4-class classification = \", classifier_accuracy_list.mean())\n",
    "print(\"binary = \", binary_accuracy_list.mean())"
   ]
  },
  {
   "cell_type": "markdown",
   "metadata": {},
   "source": [
    "# Optimal Linear Regression"
   ]
  },
  {
   "cell_type": "code",
   "execution_count": 8,
   "metadata": {},
   "outputs": [
    {
     "name": "stdout",
     "output_type": "stream",
     "text": [
      "4-class classification =  0.7554452093443178\n",
      "binary =  0.961488545310913\n"
     ]
    }
   ],
   "source": [
    "# -*- coding: utf-8 -*-\n",
    "import csv\n",
    "import nltk\n",
    "import numpy as np\n",
    "from math import sqrt\n",
    "from nltk.corpus import stopwords\n",
    "from nltk.tokenize import word_tokenize\n",
    "from nltk.stem.wordnet import WordNetLemmatizer\n",
    "from nltk.tokenize import WhitespaceTokenizer\n",
    "from nltk.sentiment.util import mark_negation\n",
    "from collections import Counter\n",
    "from sklearn.feature_extraction.text import TfidfVectorizer\n",
    "from sklearn.feature_extraction.text import CountVectorizer\n",
    "from sklearn.model_selection import train_test_split, KFold\n",
    "from sklearn.naive_bayes import MultinomialNB\n",
    "from sklearn.svm import LinearSVC\n",
    "from sklearn import metrics\n",
    "from sklearn.pipeline import Pipeline\n",
    "from sklearn.linear_model import LinearRegression\n",
    "import pandas\n",
    "\n",
    "stop_words = set(stopwords.words('english'))\n",
    "\n",
    "f = open('review.csv', \"r\", encoding = \"utf-8\")\n",
    "read = csv.reader(f)\n",
    "counter = 0\n",
    "text_reviews = []\n",
    "stars = []\n",
    "for row in read:\n",
    "    counter += 1\n",
    "    if(counter < 200000): \n",
    "        if row[5] != '3':\n",
    "            stars.append(row[5])\n",
    "            text_reviews.append(row[6])\n",
    "    else:\n",
    "        f.close()\n",
    "        text_reviews = text_reviews[1:]\n",
    "        stars = stars[1:]\n",
    "        break\n",
    "vectorizer = TfidfVectorizer(ngram_range=(1,3), tokenizer=lambda text: mark_negation(word_tokenize(text)))\n",
    "vectors = vectorizer.fit_transform(text_reviews)\n",
    "stars = np.array(stars)\n",
    "X_train, X_test, y_train, y_test = train_test_split(vectors, stars, test_size=0.2, random_state=24)\n",
    "svm = LinearSVC()\n",
    "svm.fit(X_train, y_train)\n",
    "y_pred = svm.predict(X_test)\n",
    "\n",
    "correct = 0\n",
    "for i, x in enumerate(y_test):\n",
    "    if x == \"1\":\n",
    "        if float(y_pred[i]) < 1.5:\n",
    "            correct += 1\n",
    "    elif x == \"2\":\n",
    "        if float(y_pred[i]) >= 1.5 and float(y_pred[i]) < 2.5:\n",
    "            correct += 1\n",
    "    if x == \"4\":\n",
    "        if float(y_pred[i]) >= 3.5 and float(y_pred[i]) < 4.5:\n",
    "            correct += 1\n",
    "    if x == \"5\":\n",
    "        if float(y_pred[i]) >= 4.5:\n",
    "            correct += 1\n",
    "\n",
    "print(\"4-class classification = \", correct/len(y_test)) \n",
    "\n",
    "correct = 0\n",
    "for i, x in enumerate(y_test):\n",
    "    if x == \"1\":\n",
    "        if float(y_pred[i]) <= 2.5:\n",
    "            correct += 1\n",
    "    elif x == \"2\":\n",
    "        if float(y_pred[i]) <= 2.5:\n",
    "            correct += 1\n",
    "    if x == \"4\":\n",
    "        if float(y_pred[i]) >= 3.5:\n",
    "            correct += 1\n",
    "    if x == \"5\":\n",
    "        if float(y_pred[i]) >= 3.5:\n",
    "            correct += 1\n",
    "\n",
    "            \n",
    "print(\"binary = \", correct/len(y_test)) "
   ]
  }
 ],
 "metadata": {
  "kernelspec": {
   "display_name": "Python 3",
   "language": "python",
   "name": "python3"
  },
  "language_info": {
   "codemirror_mode": {
    "name": "ipython",
    "version": 3
   },
   "file_extension": ".py",
   "mimetype": "text/x-python",
   "name": "python",
   "nbconvert_exporter": "python",
   "pygments_lexer": "ipython3",
   "version": "3.6.2"
  }
 },
 "nbformat": 4,
 "nbformat_minor": 2
}
